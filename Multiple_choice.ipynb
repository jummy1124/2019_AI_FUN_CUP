{
  "nbformat": 4,
  "nbformat_minor": 0,
  "metadata": {
    "colab": {
      "name": "Multiple_choice.ipynb",
      "provenance": [],
      "collapsed_sections": []
    },
    "kernelspec": {
      "name": "python3",
      "display_name": "Python 3"
    },
    "accelerator": "GPU"
  },
  "cells": [
    {
      "cell_type": "code",
      "metadata": {
        "id": "EQchgmJIIgSR",
        "colab_type": "code",
        "outputId": "928916c7-37c2-4a9a-a5c2-f5752093b866",
        "colab": {
          "base_uri": "https://localhost:8080/",
          "height": 34
        }
      },
      "source": [
        "from google.colab import drive\n",
        "drive.mount(\"/content/drive\", force_remount=True)"
      ],
      "execution_count": 0,
      "outputs": [
        {
          "output_type": "stream",
          "text": [
            "Mounted at /content/drive\n"
          ],
          "name": "stdout"
        }
      ]
    },
    {
      "cell_type": "code",
      "metadata": {
        "id": "2AOlWFs9Ogzk",
        "colab_type": "code",
        "colab": {}
      },
      "source": [
        "path='//content//drive//My Drive//FUN CUP測試資料100題//'"
      ],
      "execution_count": 0,
      "outputs": []
    },
    {
      "cell_type": "code",
      "metadata": {
        "id": "PN4tDOhDPOBE",
        "colab_type": "code",
        "outputId": "fa49c636-7c4e-45b6-dc5e-6098cca1d306",
        "colab": {
          "base_uri": "https://localhost:8080/",
          "height": 34
        }
      },
      "source": [
        "pip install SpeechRecognition"
      ],
      "execution_count": 0,
      "outputs": [
        {
          "output_type": "stream",
          "text": [
            "Requirement already satisfied: SpeechRecognition in /usr/local/lib/python3.6/dist-packages (3.8.1)\n"
          ],
          "name": "stdout"
        }
      ]
    },
    {
      "cell_type": "code",
      "metadata": {
        "id": "yj5HVycDGyT3",
        "colab_type": "code",
        "outputId": "f64d7e8e-f33d-4d8e-f3cf-6054a8dd509b",
        "colab": {
          "base_uri": "https://localhost:8080/",
          "height": 440
        }
      },
      "source": [
        "!pip install https://github.com/huggingface/transformers/releases/download/v0.1.2/pytorch_pretrained_bert-0.1.2.tar.gz"
      ],
      "execution_count": 0,
      "outputs": [
        {
          "output_type": "stream",
          "text": [
            "Collecting https://github.com/huggingface/transformers/releases/download/v0.1.2/pytorch_pretrained_bert-0.1.2.tar.gz\n",
            "\u001b[?25l  Downloading https://github.com/huggingface/transformers/releases/download/v0.1.2/pytorch_pretrained_bert-0.1.2.tar.gz (46kB)\n",
            "\u001b[K     |████████████████████████████████| 51kB 277kB/s \n",
            "\u001b[?25hRequirement already satisfied (use --upgrade to upgrade): pytorch-pretrained-bert==0.1.2 from https://github.com/huggingface/transformers/releases/download/v0.1.2/pytorch_pretrained_bert-0.1.2.tar.gz in /usr/local/lib/python3.6/dist-packages\n",
            "Requirement already satisfied: torch>=0.4.1 in /usr/local/lib/python3.6/dist-packages (from pytorch-pretrained-bert==0.1.2) (1.3.1)\n",
            "Requirement already satisfied: numpy in /usr/local/lib/python3.6/dist-packages (from pytorch-pretrained-bert==0.1.2) (1.17.4)\n",
            "Requirement already satisfied: boto3 in /usr/local/lib/python3.6/dist-packages (from pytorch-pretrained-bert==0.1.2) (1.10.40)\n",
            "Requirement already satisfied: requests in /usr/local/lib/python3.6/dist-packages (from pytorch-pretrained-bert==0.1.2) (2.21.0)\n",
            "Requirement already satisfied: tqdm in /usr/local/lib/python3.6/dist-packages (from pytorch-pretrained-bert==0.1.2) (4.28.1)\n",
            "Requirement already satisfied: jmespath<1.0.0,>=0.7.1 in /usr/local/lib/python3.6/dist-packages (from boto3->pytorch-pretrained-bert==0.1.2) (0.9.4)\n",
            "Requirement already satisfied: botocore<1.14.0,>=1.13.40 in /usr/local/lib/python3.6/dist-packages (from boto3->pytorch-pretrained-bert==0.1.2) (1.13.40)\n",
            "Requirement already satisfied: s3transfer<0.3.0,>=0.2.0 in /usr/local/lib/python3.6/dist-packages (from boto3->pytorch-pretrained-bert==0.1.2) (0.2.1)\n",
            "Requirement already satisfied: idna<2.9,>=2.5 in /usr/local/lib/python3.6/dist-packages (from requests->pytorch-pretrained-bert==0.1.2) (2.8)\n",
            "Requirement already satisfied: urllib3<1.25,>=1.21.1 in /usr/local/lib/python3.6/dist-packages (from requests->pytorch-pretrained-bert==0.1.2) (1.24.3)\n",
            "Requirement already satisfied: chardet<3.1.0,>=3.0.2 in /usr/local/lib/python3.6/dist-packages (from requests->pytorch-pretrained-bert==0.1.2) (3.0.4)\n",
            "Requirement already satisfied: certifi>=2017.4.17 in /usr/local/lib/python3.6/dist-packages (from requests->pytorch-pretrained-bert==0.1.2) (2019.11.28)\n",
            "Requirement already satisfied: python-dateutil<2.8.1,>=2.1; python_version >= \"2.7\" in /usr/local/lib/python3.6/dist-packages (from botocore<1.14.0,>=1.13.40->boto3->pytorch-pretrained-bert==0.1.2) (2.6.1)\n",
            "Requirement already satisfied: docutils<0.16,>=0.10 in /usr/local/lib/python3.6/dist-packages (from botocore<1.14.0,>=1.13.40->boto3->pytorch-pretrained-bert==0.1.2) (0.15.2)\n",
            "Requirement already satisfied: six>=1.5 in /usr/local/lib/python3.6/dist-packages (from python-dateutil<2.8.1,>=2.1; python_version >= \"2.7\"->botocore<1.14.0,>=1.13.40->boto3->pytorch-pretrained-bert==0.1.2) (1.12.0)\n",
            "Building wheels for collected packages: pytorch-pretrained-bert\n",
            "  Building wheel for pytorch-pretrained-bert (setup.py) ... \u001b[?25l\u001b[?25hdone\n",
            "  Created wheel for pytorch-pretrained-bert: filename=pytorch_pretrained_bert-0.1.2-cp36-none-any.whl size=32311 sha256=036c9e4e08d27e85051a14109e9192b5609b29d923c0a62d2da6d914a79938ba\n",
            "  Stored in directory: /root/.cache/pip/wheels/95/f2/55/b2c19f6d3a9bbede0fb2d8874b33510e5fe96f33a8549166c9\n",
            "Successfully built pytorch-pretrained-bert\n"
          ],
          "name": "stdout"
        }
      ]
    },
    {
      "cell_type": "code",
      "metadata": {
        "id": "8y3XG_GYG3Vh",
        "colab_type": "code",
        "outputId": "e426dafc-1fc7-410f-910a-3029669e6791",
        "colab": {
          "base_uri": "https://localhost:8080/",
          "height": 336
        }
      },
      "source": [
        "!nvidia-smi\n",
        "!rm -rf bert_chinese*\n",
        "!rm -rf pytorch_pretrained_bert*\n",
        "!wget -q --no-check-certificate -r 'https://drive.google.com/uc?export=download&id=1SXz4Hr073OCuIOqzmi1Ool6m9-g8yYOf' -O bert_chinese.zip\n",
        "!unzip -q -o bert_chinese.zip\n",
        "!wget -q --no-check-certificate -r 'https://drive.google.com/uc?export=download&id=15vkVWzKDlik_l2MAkvGI6tIhPauQiGaW' -O pytorch_pretrained_bert.zip\n",
        "!unzip -q -o pytorch_pretrained_bert.zip\n",
        "# !wget --no-check-certificate -r 'https://drive.google.com/uc?export=download&id=1IIVjgGX_JeXBNQv-vRAj1JLFvv2x9EVu' -O pytorch_pretrained_bert-0.1.2.zip\n",
        "# !unzip pytorch_pretrained_bert-0.1.2.zip\n",
        "# %cd pytorch_pretrained_bert-0.1.2\n",
        "# !python setup.py install\n",
        "# %cd .."
      ],
      "execution_count": 0,
      "outputs": [
        {
          "output_type": "stream",
          "text": [
            "Mon Dec 23 13:17:33 2019       \n",
            "+-----------------------------------------------------------------------------+\n",
            "| NVIDIA-SMI 440.44       Driver Version: 418.67       CUDA Version: 10.1     |\n",
            "|-------------------------------+----------------------+----------------------+\n",
            "| GPU  Name        Persistence-M| Bus-Id        Disp.A | Volatile Uncorr. ECC |\n",
            "| Fan  Temp  Perf  Pwr:Usage/Cap|         Memory-Usage | GPU-Util  Compute M. |\n",
            "|===============================+======================+======================|\n",
            "|   0  Tesla P100-PCIE...  Off  | 00000000:00:04.0 Off |                    0 |\n",
            "| N/A   50C    P0    30W / 250W |      0MiB / 16280MiB |      0%      Default |\n",
            "+-------------------------------+----------------------+----------------------+\n",
            "                                                                               \n",
            "+-----------------------------------------------------------------------------+\n",
            "| Processes:                                                       GPU Memory |\n",
            "|  GPU       PID   Type   Process name                             Usage      |\n",
            "|=============================================================================|\n",
            "|  No running processes found                                                 |\n",
            "+-----------------------------------------------------------------------------+\n",
            "warning [bert_chinese.zip]:  402320 extra bytes at beginning or within zipfile\n",
            "  (attempting to process anyway)\n"
          ],
          "name": "stdout"
        }
      ]
    },
    {
      "cell_type": "code",
      "metadata": {
        "id": "wwD8XHhiG4fk",
        "colab_type": "code",
        "colab": {}
      },
      "source": [
        "import torch\n",
        "from torch.utils.data import (DataLoader, RandomSampler, SequentialSampler,\n",
        "                              TensorDataset)\n",
        "import numpy as np\n",
        "from tqdm import tqdm\n",
        "\n",
        "\n",
        "def to_list(tensor):\n",
        "    return tensor.detach().cpu().tolist()\n",
        " \n",
        "\n",
        "def _get_best_indexes(logits, n_best_size=1):\n",
        "    \"\"\"Get the n-best logits from a list.\"\"\"\n",
        "    index_and_score = sorted(enumerate(logits), key=lambda x: x[1], reverse=True)\n",
        "\n",
        "    best_indexes = []\n",
        "    for i in range(len(index_and_score)):\n",
        "        if i >= n_best_size:\n",
        "            break\n",
        "        best_indexes.append(index_and_score[i][0])\n",
        "    return best_indexes\n",
        " \n",
        "def softmax(x):\n",
        "    e_x = np.exp(x - np.max(x))\n",
        "    return e_x / e_x.sum(axis=1, keepdims=True)\n",
        "    \n",
        "def predict(eval_dataloader, model, tokenizer, device='cpu'):\n",
        "\n",
        "\n",
        "    model.eval()\n",
        "    eval_loss, eval_accuracy = 0, 0\n",
        "    nb_eval_steps, nb_eval_examples = 0, 0\n",
        "    predictions = []\n",
        "    for input_ids, input_mask, segment_ids, label_ids in tqdm(eval_dataloader, desc='Iteration'):\n",
        "        input_ids = input_ids.to(device)\n",
        "        input_mask = input_mask.to(device)\n",
        "        segment_ids = segment_ids.to(device)\n",
        "        label_ids = label_ids.to(device)\n",
        "\n",
        "        \n",
        "        with torch.no_grad():\n",
        "            # print(input_ids.shape)\n",
        "#             tmp_eval_loss, logits = model(input_ids, segment_ids, input_mask, label_ids)\n",
        "            logits = model(input_ids, segment_ids, input_mask, label_ids)\n",
        "\n",
        "        logits = logits.detach().cpu().numpy()\n",
        "        print(\"logits:\",logits)\n",
        "        label_ids = label_ids.to('cpu').numpy()\n",
        "        \n",
        "        logits = softmax(logits.tolist())\n",
        "        for logit in logits:\n",
        "            predictions.append(logit)\n",
        "\n",
        "    # return np.argmax(predictions)\n",
        "    return np.argmax(predictions[0])\n",
        "  "
      ],
      "execution_count": 0,
      "outputs": []
    },
    {
      "cell_type": "code",
      "metadata": {
        "id": "FsGjZ1KJG53j",
        "colab_type": "code",
        "colab": {}
      },
      "source": [
        "import collections\n",
        "\n",
        "from torch.utils.data import TensorDataset, DataLoader, SequentialSampler\n",
        "\n",
        "\n",
        "class InputFeatures(object):\n",
        "    \"\"\"A single set of features of data.\"\"\"\n",
        "\n",
        "    def __init__(self, input_ids, input_mask, segment_ids, label_id):\n",
        "        self.input_ids = input_ids\n",
        "        self.input_mask = input_mask\n",
        "        self.segment_ids = segment_ids\n",
        "        self.label_id = label_id\n",
        "\n",
        "        \n",
        "def _truncate_seq_pair(tokens_a, tokens_b, max_length):\n",
        "    \"\"\"Truncates a sequence pair in place to the maximum length.\"\"\"\n",
        "\n",
        "    # This is a simple heuristic which will always truncate the longer sequence\n",
        "    # one token at a time. This makes more sense than truncating an equal percent\n",
        "    # of tokens from each, since if one sequence is very short then each token\n",
        "    # that's truncated likely contains more information than a longer sequence.\n",
        "    while True:\n",
        "        total_length = len(tokens_a) + len(tokens_b)\n",
        "        if total_length <= max_length:\n",
        "            break\n",
        "        if len(tokens_a) > len(tokens_b):\n",
        "            tokens_a.pop()\n",
        "        else:\n",
        "            tokens_b.pop()\n",
        "            \n",
        "            \n",
        "def convert_examples_to_features(context, question, choices, tokenizer, ans, max_seq_length=300, label_list=[1,2,3,4]):\n",
        "    \n",
        "    text_bs = list()\n",
        "    for choice in choices:\n",
        "        # text_b = tokenization.convert_to_unicode(str(row['choice%d' % i]))\n",
        "        text_bs.append(\"{} {}\".format(question, choice))\n",
        "        #text_b.append(choice)\n",
        "      \n",
        "\n",
        "    label_map = {}\n",
        "    for (i, label) in enumerate(label_list):\n",
        "        label_map[label] = i    \n",
        "\n",
        "    multiple_choice_input_ids = []\n",
        "    multiple_choice_input_masks = []\n",
        "    multiple_choice_segment_ids = []\n",
        "    for text_b in text_bs:  \n",
        "    \n",
        "\n",
        "        tokens_a = tokenizer.tokenize(context)  \n",
        "\n",
        "        tokens_b = None\n",
        "        if text_b:\n",
        "            tokens_b = tokenizer.tokenize(text_b)   \n",
        "\n",
        "        if tokens_b:\n",
        "            # Modifies `tokens_a` and `tokens_b` in place so that the total\n",
        "            # length is less than the specified length.\n",
        "            # Account for [CLS], [SEP], [SEP] with \"- 3\"\n",
        "            _truncate_seq_pair(tokens_a, tokens_b, max_seq_length - 3)\n",
        "        else:\n",
        "            # Account for [CLS] and [SEP] with \"- 2\"\n",
        "            if len(tokens_a) > max_seq_length - 2:\n",
        "                tokens_a = tokens_a[0:(max_seq_length - 2)] \n",
        "\n",
        "        \n",
        "        tokens = []\n",
        "        segment_ids = []\n",
        "        tokens.append(\"[CLS]\")\n",
        "        segment_ids.append(0)\n",
        "        for token in tokens_a:\n",
        "            tokens.append(token)\n",
        "            segment_ids.append(0)\n",
        "        tokens.append(\"[SEP]\")\n",
        "        segment_ids.append(0)   \n",
        "\n",
        "        if tokens_b:\n",
        "            for token in tokens_b:\n",
        "                tokens.append(token)\n",
        "                segment_ids.append(1)\n",
        "            tokens.append(\"[SEP]\")\n",
        "            segment_ids.append(1)   \n",
        "\n",
        "        input_ids = tokenizer.convert_tokens_to_ids(tokens) \n",
        "\n",
        "        # The mask has 1 for real tokens and 0 for padding tokens. Only real\n",
        "        # tokens are attended to.\n",
        "        input_mask = [1] * len(input_ids)   \n",
        "\n",
        "        # Zero-pad up to the sequence length.\n",
        "        while len(input_ids) < max_seq_length:\n",
        "            input_ids.append(0)\n",
        "            input_mask.append(0)\n",
        "            segment_ids.append(0)   \n",
        "\n",
        "        assert len(input_ids) == max_seq_length\n",
        "        assert len(input_mask) == max_seq_length\n",
        "        assert len(segment_ids) == max_seq_length\n",
        "        multiple_choice_input_ids.append(input_ids)\n",
        "        multiple_choice_input_masks.append(input_mask)\n",
        "        multiple_choice_segment_ids.append(segment_ids)\n",
        "    assert len(multiple_choice_input_ids) == 4\n",
        "    assert len(multiple_choice_input_masks) == 4\n",
        "    assert len(multiple_choice_segment_ids) == 4    \n",
        "\n",
        "    label_id = label_map[ans] \n",
        "    \n",
        "    \n",
        "\n",
        "    f = InputFeatures(input_ids=multiple_choice_input_ids,\n",
        "                      input_mask=multiple_choice_input_masks,\n",
        "                      segment_ids=multiple_choice_segment_ids,\n",
        "                      label_id=label_id)  \n",
        "    \n",
        "    \n",
        "\n",
        "    all_input_ids = torch.tensor([f.input_ids], dtype=torch.long)\n",
        "    all_input_mask = torch.tensor([f.input_mask], dtype=torch.long)\n",
        "    all_segment_ids = torch.tensor([f.segment_ids], dtype=torch.long)\n",
        "    all_label_ids = torch.tensor([f.label_id], dtype=torch.long)\n",
        "    eval_data = TensorDataset(all_input_ids, all_input_mask, all_segment_ids, all_label_ids)\n",
        "    eval_dataloader = DataLoader(eval_data, sampler=SequentialSampler(eval_data), batch_size=1)\n",
        "\n",
        "    return eval_dataloader, tokens\n",
        "\n",
        "\n"
      ],
      "execution_count": 0,
      "outputs": []
    },
    {
      "cell_type": "code",
      "metadata": {
        "id": "AIFCcebIG7H-",
        "colab_type": "code",
        "outputId": "178f19de-75e4-4949-93e0-af6a02ef2870",
        "colab": {
          "base_uri": "https://localhost:8080/",
          "height": 238
        }
      },
      "source": [
        "# 因為要我們今天要跑的是中文QA 所以只有Bert可以用\n",
        "import torch\n",
        "from pytorch_pretrained_bert import (BertConfig, BertForSequenceClassification,\n",
        "                                 BertTokenizer)\n",
        "\n",
        "device = torch.device(\"cuda\")\n",
        " \n",
        "model_name = 'bert_chinese'\n",
        "config_class, tokenizer_class = BertConfig, BertTokenizer\n",
        "# model = model_class.from_pretrained('bert_chinese').to(device)\n",
        "model = torch.load(model_name + '/model.cpt') \n",
        "tokenizer = torch.load(model_name + '/tokenizer.cpt')"
      ],
      "execution_count": 0,
      "outputs": [
        {
          "output_type": "stream",
          "text": [
            "/usr/local/lib/python3.6/dist-packages/torch/serialization.py:493: SourceChangeWarning: source code of class 'pytorch_pretrained_bert.modeling.BertForSequenceClassification' has changed. you can retrieve the original source code by accessing the object's source attribute or set `torch.nn.Module.dump_patches = True` and use the patch tool to revert the changes.\n",
            "  warnings.warn(msg, SourceChangeWarning)\n",
            "/usr/local/lib/python3.6/dist-packages/torch/serialization.py:493: SourceChangeWarning: source code of class 'torch.nn.modules.sparse.Embedding' has changed. you can retrieve the original source code by accessing the object's source attribute or set `torch.nn.Module.dump_patches = True` and use the patch tool to revert the changes.\n",
            "  warnings.warn(msg, SourceChangeWarning)\n",
            "/usr/local/lib/python3.6/dist-packages/torch/serialization.py:493: SourceChangeWarning: source code of class 'torch.nn.modules.dropout.Dropout' has changed. you can retrieve the original source code by accessing the object's source attribute or set `torch.nn.Module.dump_patches = True` and use the patch tool to revert the changes.\n",
            "  warnings.warn(msg, SourceChangeWarning)\n",
            "/usr/local/lib/python3.6/dist-packages/torch/serialization.py:493: SourceChangeWarning: source code of class 'torch.nn.modules.container.ModuleList' has changed. you can retrieve the original source code by accessing the object's source attribute or set `torch.nn.Module.dump_patches = True` and use the patch tool to revert the changes.\n",
            "  warnings.warn(msg, SourceChangeWarning)\n",
            "/usr/local/lib/python3.6/dist-packages/torch/serialization.py:493: SourceChangeWarning: source code of class 'torch.nn.modules.linear.Linear' has changed. you can retrieve the original source code by accessing the object's source attribute or set `torch.nn.Module.dump_patches = True` and use the patch tool to revert the changes.\n",
            "  warnings.warn(msg, SourceChangeWarning)\n",
            "/usr/local/lib/python3.6/dist-packages/torch/serialization.py:493: SourceChangeWarning: source code of class 'torch.nn.modules.activation.Tanh' has changed. you can retrieve the original source code by accessing the object's source attribute or set `torch.nn.Module.dump_patches = True` and use the patch tool to revert the changes.\n",
            "  warnings.warn(msg, SourceChangeWarning)\n"
          ],
          "name": "stderr"
        }
      ]
    },
    {
      "cell_type": "code",
      "metadata": {
        "id": "flL6q9q7ITeQ",
        "colab_type": "code",
        "outputId": "337fa414-88b1-47e8-f1a7-45243cc5e37b",
        "colab": {
          "base_uri": "https://localhost:8080/",
          "height": 279
        }
      },
      "source": [
        "import pandas as pd\n",
        "\n",
        "test_df=pd.read_csv('/content/drive/My Drive/test_choice_4.csv')\n",
        "test_df.head()"
      ],
      "execution_count": 0,
      "outputs": [
        {
          "output_type": "execute_result",
          "data": {
            "text/html": [
              "<div>\n",
              "<style scoped>\n",
              "    .dataframe tbody tr th:only-of-type {\n",
              "        vertical-align: middle;\n",
              "    }\n",
              "\n",
              "    .dataframe tbody tr th {\n",
              "        vertical-align: top;\n",
              "    }\n",
              "\n",
              "    .dataframe thead th {\n",
              "        text-align: right;\n",
              "    }\n",
              "</style>\n",
              "<table border=\"1\" class=\"dataframe\">\n",
              "  <thead>\n",
              "    <tr style=\"text-align: right;\">\n",
              "      <th></th>\n",
              "      <th>文章</th>\n",
              "      <th>題目</th>\n",
              "      <th>選項一</th>\n",
              "      <th>選項二</th>\n",
              "      <th>選項三</th>\n",
              "      <th>選項四</th>\n",
              "    </tr>\n",
              "  </thead>\n",
              "  <tbody>\n",
              "    <tr>\n",
              "      <th>0</th>\n",
              "      <td>台北市政府工務局大地工程處總工程師吳明上說明除了大型崩塌的緊急處理可以後續再通知地主之外政府...</td>\n",
              "      <td>政府要施作公共工程的方式不包含下列哪一個</td>\n",
              "      <td>一徵收價購</td>\n",
              "      <td>三無償提供</td>\n",
              "      <td>同意</td>\n",
              "      <td>書是強型取得</td>\n",
              "    </tr>\n",
              "    <tr>\n",
              "      <th>1</th>\n",
              "      <td>台北市政府工務局大地工程處總工程師吳明上說明除了大型崩塌的緊急處理可以後續再通知地主之外政府...</td>\n",
              "      <td>吳明順說明這是整個國家憲法對什麼財產的保證</td>\n",
              "      <td>一公共財產</td>\n",
              "      <td>私人財產三</td>\n",
              "      <td>國家</td>\n",
              "      <td>財產是世界遺產</td>\n",
              "    </tr>\n",
              "    <tr>\n",
              "      <th>2</th>\n",
              "      <td>授權證明書布袋戲團昨天授國立政治大學文學院邀請進入校園演出表演內容是水滸傳中的李逵殺胡同時也...</td>\n",
              "      <td>小田正民俗布袋戲團授國立政治大學哪個學院要請進入校園演出</td>\n",
              "      <td>一理學院</td>\n",
              "      <td>2傳播學</td>\n",
              "      <td>院三文學</td>\n",
              "      <td>院商學院</td>\n",
              "    </tr>\n",
              "    <tr>\n",
              "      <th>3</th>\n",
              "      <td>授權證明書布袋戲團昨天授國立政治大學文學院邀請進入校園演出表演內容是水滸傳中的李逵殺胡同時也...</td>\n",
              "      <td>只是表演內容是水滸傳中的什麼故事</td>\n",
              "      <td>一可愛巧虎</td>\n",
              "      <td>二胡家虎威</td>\n",
              "      <td>山媽媽呼呼</td>\n",
              "      <td>是李奎砂壺</td>\n",
              "    </tr>\n",
              "    <tr>\n",
              "      <th>4</th>\n",
              "      <td>紅玉碎認為現代人總活在忙碌的生活中希望大家能夠偶爾停下腳步而她表示創立的過程每個階段都有一些...</td>\n",
              "      <td>請問創立過程紅綠色遇到許多難題但它秉持何種概念挺過難關</td>\n",
              "      <td>未雨綢繆上</td>\n",
              "      <td>網搜尋資料</td>\n",
              "      <td>錯中</td>\n",
              "      <td>學是做中學</td>\n",
              "    </tr>\n",
              "  </tbody>\n",
              "</table>\n",
              "</div>"
            ],
            "text/plain": [
              "                                                  文章  ...      選項四\n",
              "0  台北市政府工務局大地工程處總工程師吳明上說明除了大型崩塌的緊急處理可以後續再通知地主之外政府...  ...   書是強型取得\n",
              "1  台北市政府工務局大地工程處總工程師吳明上說明除了大型崩塌的緊急處理可以後續再通知地主之外政府...  ...  財產是世界遺產\n",
              "2  授權證明書布袋戲團昨天授國立政治大學文學院邀請進入校園演出表演內容是水滸傳中的李逵殺胡同時也...  ...     院商學院\n",
              "3  授權證明書布袋戲團昨天授國立政治大學文學院邀請進入校園演出表演內容是水滸傳中的李逵殺胡同時也...  ...    是李奎砂壺\n",
              "4  紅玉碎認為現代人總活在忙碌的生活中希望大家能夠偶爾停下腳步而她表示創立的過程每個階段都有一些...  ...    學是做中學\n",
              "\n",
              "[5 rows x 6 columns]"
            ]
          },
          "metadata": {
            "tags": []
          },
          "execution_count": 9
        }
      ]
    },
    {
      "cell_type": "code",
      "metadata": {
        "id": "Oo0fqNZaG89-",
        "colab_type": "code",
        "outputId": "02f25520-730d-4ec5-e3f6-98d619322d48",
        "colab": {
          "base_uri": "https://localhost:8080/",
          "height": 1000
        }
      },
      "source": [
        "ans=list()\n",
        "for i in range(len(test_df)):\n",
        "  context = test_df['文章'][i]\n",
        "  question = test_df['題目'][i]\n",
        "  choices = [test_df['選項一'][i], test_df['選項二'][i], test_df['選項三'][i], test_df['選項四'][i]]\n",
        "  data, tokens = convert_examples_to_features(context, question, choices, tokenizer, 2)\n",
        "  pred = predict(data, model, tokenizer, device=device)\n",
        "  print(data)\n",
        "  # print('Predicted answer: ', choices[pred])\n",
        "  ans.append(pred+1)"
      ],
      "execution_count": 0,
      "outputs": [
        {
          "output_type": "stream",
          "text": [
            "Iteration: 100%|██████████| 1/1 [00:00<00:00, 10.20it/s]\n",
            "Iteration: 100%|██████████| 1/1 [00:00<00:00, 12.35it/s]\n",
            "Iteration: 100%|██████████| 1/1 [00:00<00:00, 11.74it/s]\n",
            "Iteration:   0%|          | 0/1 [00:00<?, ?it/s]"
          ],
          "name": "stderr"
        },
        {
          "output_type": "stream",
          "text": [
            "logits: [[ -1.2177763  -7.800782  -10.535449    4.94935  ]]\n",
            "<torch.utils.data.dataloader.DataLoader object at 0x7fe33efbb0f0>\n",
            "logits: [[ -3.811102 -13.122497 -14.778633 -16.59682 ]]\n",
            "<torch.utils.data.dataloader.DataLoader object at 0x7fe3502867b8>\n",
            "logits: [[-13.190848 -14.763683 -14.067344 -16.06727 ]]\n",
            "<torch.utils.data.dataloader.DataLoader object at 0x7fe33efbb358>\n"
          ],
          "name": "stdout"
        },
        {
          "output_type": "stream",
          "text": [
            "Iteration: 100%|██████████| 1/1 [00:00<00:00, 11.19it/s]\n",
            "Iteration: 100%|██████████| 1/1 [00:00<00:00, 10.25it/s]\n",
            "Iteration:   0%|          | 0/1 [00:00<?, ?it/s]"
          ],
          "name": "stderr"
        },
        {
          "output_type": "stream",
          "text": [
            "logits: [[-16.629572  -16.33941   -16.248606   -7.8104644]]\n",
            "<torch.utils.data.dataloader.DataLoader object at 0x7fe33efbb240>\n",
            "logits: [[-15.228529  -15.874095  -10.30769     1.1715975]]\n",
            "<torch.utils.data.dataloader.DataLoader object at 0x7fe33efbb6d8>\n"
          ],
          "name": "stdout"
        },
        {
          "output_type": "stream",
          "text": [
            "Iteration: 100%|██████████| 1/1 [00:00<00:00, 11.15it/s]\n",
            "Iteration: 100%|██████████| 1/1 [00:00<00:00, 11.08it/s]\n",
            "Iteration:   0%|          | 0/1 [00:00<?, ?it/s]"
          ],
          "name": "stderr"
        },
        {
          "output_type": "stream",
          "text": [
            "logits: [[-10.830906  -9.353706 -16.107319 -16.433628]]\n",
            "<torch.utils.data.dataloader.DataLoader object at 0x7fe33efbb828>\n",
            "logits: [[ -8.794241    9.1204605 -16.198149   -9.162406 ]]\n",
            "<torch.utils.data.dataloader.DataLoader object at 0x7fe33efbb400>\n"
          ],
          "name": "stdout"
        },
        {
          "output_type": "stream",
          "text": [
            "Iteration: 100%|██████████| 1/1 [00:00<00:00, 10.64it/s]\n",
            "Iteration: 100%|██████████| 1/1 [00:00<00:00,  9.34it/s]\n",
            "Iteration:   0%|          | 0/1 [00:00<?, ?it/s]"
          ],
          "name": "stderr"
        },
        {
          "output_type": "stream",
          "text": [
            "logits: [[ -1.2951107  -9.620479  -11.443853   -6.9716053]]\n",
            "<torch.utils.data.dataloader.DataLoader object at 0x7fe33efbba90>\n",
            "logits: [[ -7.2132688 -15.843808   -1.9078254   7.4102583]]\n",
            "<torch.utils.data.dataloader.DataLoader object at 0x7fe33efbba20>\n"
          ],
          "name": "stdout"
        },
        {
          "output_type": "stream",
          "text": [
            "Iteration: 100%|██████████| 1/1 [00:00<00:00, 10.21it/s]\n",
            "Iteration: 100%|██████████| 1/1 [00:00<00:00,  9.34it/s]\n",
            "Iteration:   0%|          | 0/1 [00:00<?, ?it/s]"
          ],
          "name": "stderr"
        },
        {
          "output_type": "stream",
          "text": [
            "logits: [[-14.880614 -15.943048 -15.430367 -15.955069]]\n",
            "<torch.utils.data.dataloader.DataLoader object at 0x7fe33efbb438>\n",
            "logits: [[-12.162145   -9.831973   -8.776177    4.9978533]]\n",
            "<torch.utils.data.dataloader.DataLoader object at 0x7fe33efbbc18>\n"
          ],
          "name": "stdout"
        },
        {
          "output_type": "stream",
          "text": [
            "Iteration: 100%|██████████| 1/1 [00:00<00:00,  8.70it/s]\n",
            "Iteration: 100%|██████████| 1/1 [00:00<00:00,  9.37it/s]\n",
            "Iteration:   0%|          | 0/1 [00:00<?, ?it/s]"
          ],
          "name": "stderr"
        },
        {
          "output_type": "stream",
          "text": [
            "logits: [[  3.9179196  -8.841631  -16.47144   -16.474844 ]]\n",
            "<torch.utils.data.dataloader.DataLoader object at 0x7fe33efbbc50>\n",
            "logits: [[-15.837597    5.1867013 -15.631001  -15.6381645]]\n",
            "<torch.utils.data.dataloader.DataLoader object at 0x7fe33efbbe10>\n"
          ],
          "name": "stdout"
        },
        {
          "output_type": "stream",
          "text": [
            "Iteration: 100%|██████████| 1/1 [00:00<00:00, 11.33it/s]\n",
            "Iteration: 100%|██████████| 1/1 [00:00<00:00, 11.42it/s]\n",
            "Iteration: 100%|██████████| 1/1 [00:00<00:00, 11.72it/s]"
          ],
          "name": "stderr"
        },
        {
          "output_type": "stream",
          "text": [
            "logits: [[ -9.345577 -15.972804 -14.597978 -12.381356]]\n",
            "<torch.utils.data.dataloader.DataLoader object at 0x7fe33efbbda0>\n",
            "logits: [[-10.601278    3.7823374  -8.489643  -15.830551 ]]\n",
            "<torch.utils.data.dataloader.DataLoader object at 0x7fe33efb8080>\n",
            "logits: [[ -2.4029016  -7.886054  -15.649527  -10.925065 ]]\n",
            "<torch.utils.data.dataloader.DataLoader object at 0x7fe33efb8198>\n"
          ],
          "name": "stdout"
        },
        {
          "output_type": "stream",
          "text": [
            "\n",
            "Iteration: 100%|██████████| 1/1 [00:00<00:00,  8.57it/s]\n",
            "Iteration: 100%|██████████| 1/1 [00:00<00:00, 11.71it/s]\n",
            "Iteration:   0%|          | 0/1 [00:00<?, ?it/s]"
          ],
          "name": "stderr"
        },
        {
          "output_type": "stream",
          "text": [
            "logits: [[-6.671732  -7.6933765 -6.0533195  5.9050527]]\n",
            "<torch.utils.data.dataloader.DataLoader object at 0x7fe33efb8320>\n",
            "logits: [[-15.964943 -16.259642 -16.533426 -16.149391]]\n",
            "<torch.utils.data.dataloader.DataLoader object at 0x7fe33efb8518>\n"
          ],
          "name": "stdout"
        },
        {
          "output_type": "stream",
          "text": [
            "Iteration: 100%|██████████| 1/1 [00:00<00:00, 10.14it/s]\n",
            "Iteration: 100%|██████████| 1/1 [00:00<00:00, 11.26it/s]\n",
            "Iteration: 100%|██████████| 1/1 [00:00<00:00, 11.08it/s]"
          ],
          "name": "stderr"
        },
        {
          "output_type": "stream",
          "text": [
            "logits: [[-15.187476   -1.1621616   2.7439609 -13.211612 ]]\n",
            "<torch.utils.data.dataloader.DataLoader object at 0x7fe33efb8278>\n",
            "logits: [[-11.462983  -10.030201  -15.7325     -7.8882775]]\n",
            "<torch.utils.data.dataloader.DataLoader object at 0x7fe33efb8710>\n",
            "logits: [[  2.35842  -16.282913 -16.373972 -16.137644]]\n",
            "<torch.utils.data.dataloader.DataLoader object at 0x7fe33efb86a0>"
          ],
          "name": "stdout"
        },
        {
          "output_type": "stream",
          "text": [
            "\n",
            "Iteration: 100%|██████████| 1/1 [00:00<00:00, 11.04it/s]\n",
            "Iteration: 100%|██████████| 1/1 [00:00<00:00, 11.97it/s]\n"
          ],
          "name": "stderr"
        },
        {
          "output_type": "stream",
          "text": [
            "\n",
            "logits: [[ -9.495217  -8.434965 -16.31797  -16.136269]]\n",
            "<torch.utils.data.dataloader.DataLoader object at 0x7fe33efb8940>\n",
            "logits: [[ 0.64392185 -6.382724    2.7976875  -4.056101  ]]\n"
          ],
          "name": "stdout"
        },
        {
          "output_type": "stream",
          "text": [
            "Iteration: 100%|██████████| 1/1 [00:00<00:00, 10.36it/s]\n",
            "Iteration: 100%|██████████| 1/1 [00:00<00:00, 11.86it/s]\n",
            "Iteration:   0%|          | 0/1 [00:00<?, ?it/s]"
          ],
          "name": "stderr"
        },
        {
          "output_type": "stream",
          "text": [
            "<torch.utils.data.dataloader.DataLoader object at 0x7fe33efb8978>\n",
            "logits: [[ -7.1339264   5.078234   -3.977502  -16.445318 ]]\n",
            "<torch.utils.data.dataloader.DataLoader object at 0x7fe33efb8b70>\n",
            "logits: [[-5.219044  -4.1958375  2.3179832  2.1707199]]\n",
            "<torch.utils.data.dataloader.DataLoader object at 0x7fe33efb8cc0>\n"
          ],
          "name": "stdout"
        },
        {
          "output_type": "stream",
          "text": [
            "Iteration: 100%|██████████| 1/1 [00:00<00:00, 10.93it/s]\n",
            "Iteration: 100%|██████████| 1/1 [00:00<00:00,  9.01it/s]\n",
            "Iteration:   0%|          | 0/1 [00:00<?, ?it/s]"
          ],
          "name": "stderr"
        },
        {
          "output_type": "stream",
          "text": [
            "logits: [[-16.429487  -16.429981    7.4315886 -16.275023 ]]\n",
            "<torch.utils.data.dataloader.DataLoader object at 0x7fe33efb8a58>\n",
            "logits: [[ -6.503403   4.110348   2.214617 -11.030504]]\n",
            "<torch.utils.data.dataloader.DataLoader object at 0x7fe33efb8f60>\n"
          ],
          "name": "stdout"
        },
        {
          "output_type": "stream",
          "text": [
            "Iteration: 100%|██████████| 1/1 [00:00<00:00,  8.24it/s]\n",
            "Iteration: 100%|██████████| 1/1 [00:00<00:00,  8.95it/s]\n",
            "Iteration:   0%|          | 0/1 [00:00<?, ?it/s]"
          ],
          "name": "stderr"
        },
        {
          "output_type": "stream",
          "text": [
            "logits: [[-12.664818  -15.685446   -8.6601305  -6.2469654]]\n",
            "<torch.utils.data.dataloader.DataLoader object at 0x7fe33efb8fd0>\n",
            "logits: [[  6.722752 -14.786414 -14.323689 -16.25426 ]]\n",
            "<torch.utils.data.dataloader.DataLoader object at 0x7fe33efb8f28>\n"
          ],
          "name": "stdout"
        },
        {
          "output_type": "stream",
          "text": [
            "Iteration: 100%|██████████| 1/1 [00:00<00:00,  8.72it/s]\n",
            "Iteration: 100%|██████████| 1/1 [00:00<00:00,  8.14it/s]\n",
            "Iteration:   0%|          | 0/1 [00:00<?, ?it/s]"
          ],
          "name": "stderr"
        },
        {
          "output_type": "stream",
          "text": [
            "logits: [[-14.6649475 -15.372336  -15.330465  -10.065889 ]]\n",
            "<torch.utils.data.dataloader.DataLoader object at 0x7fe33ef5d128>\n",
            "logits: [[  7.4868155 -15.847455  -16.39422   -16.410143 ]]\n",
            "<torch.utils.data.dataloader.DataLoader object at 0x7fe33ef5d208>\n"
          ],
          "name": "stdout"
        },
        {
          "output_type": "stream",
          "text": [
            "Iteration: 100%|██████████| 1/1 [00:00<00:00,  8.44it/s]\n",
            "Iteration: 100%|██████████| 1/1 [00:00<00:00,  9.26it/s]\n",
            "Iteration:   0%|          | 0/1 [00:00<?, ?it/s]"
          ],
          "name": "stderr"
        },
        {
          "output_type": "stream",
          "text": [
            "logits: [[-10.137765    5.1168838  -5.4359627 -16.227343 ]]\n",
            "<torch.utils.data.dataloader.DataLoader object at 0x7fe33ef5d2e8>\n",
            "logits: [[-16.135681 -16.204506   5.329469 -15.451064]]\n",
            "<torch.utils.data.dataloader.DataLoader object at 0x7fe33ef5d400>\n"
          ],
          "name": "stdout"
        },
        {
          "output_type": "stream",
          "text": [
            "Iteration: 100%|██████████| 1/1 [00:00<00:00,  8.79it/s]\n",
            "Iteration: 100%|██████████| 1/1 [00:00<00:00,  9.78it/s]\n",
            "Iteration:   0%|          | 0/1 [00:00<?, ?it/s]"
          ],
          "name": "stderr"
        },
        {
          "output_type": "stream",
          "text": [
            "logits: [[-11.840741 -14.376931 -16.392962 -10.861193]]\n",
            "<torch.utils.data.dataloader.DataLoader object at 0x7fe33ef5d668>\n",
            "logits: [[ -5.68052  -10.126811 -11.465511 -11.325061]]\n",
            "<torch.utils.data.dataloader.DataLoader object at 0x7fe33ef5d780>\n"
          ],
          "name": "stdout"
        },
        {
          "output_type": "stream",
          "text": [
            "Iteration: 100%|██████████| 1/1 [00:00<00:00,  8.36it/s]\n",
            "Iteration: 100%|██████████| 1/1 [00:00<00:00,  9.30it/s]\n",
            "Iteration:   0%|          | 0/1 [00:00<?, ?it/s]"
          ],
          "name": "stderr"
        },
        {
          "output_type": "stream",
          "text": [
            "logits: [[-9.100942  -9.897109  -8.5857525 -8.42619  ]]\n",
            "<torch.utils.data.dataloader.DataLoader object at 0x7fe33ef5d828>\n",
            "logits: [[2.771509  2.162517  3.4646916 5.76908  ]]\n",
            "<torch.utils.data.dataloader.DataLoader object at 0x7fe33ef5da20>\n"
          ],
          "name": "stdout"
        },
        {
          "output_type": "stream",
          "text": [
            "Iteration: 100%|██████████| 1/1 [00:00<00:00,  8.74it/s]\n",
            "Iteration: 100%|██████████| 1/1 [00:00<00:00, 10.90it/s]\n",
            "Iteration:   0%|          | 0/1 [00:00<?, ?it/s]"
          ],
          "name": "stderr"
        },
        {
          "output_type": "stream",
          "text": [
            "logits: [[  6.570136  -5.502817 -15.443693 -16.158066]]\n",
            "<torch.utils.data.dataloader.DataLoader object at 0x7fe33ef5d748>\n",
            "logits: [[ -9.34781  -15.479984 -11.556271 -16.316692]]\n",
            "<torch.utils.data.dataloader.DataLoader object at 0x7fe33ef5db38>\n"
          ],
          "name": "stdout"
        },
        {
          "output_type": "stream",
          "text": [
            "Iteration: 100%|██████████| 1/1 [00:00<00:00, 10.82it/s]\n",
            "Iteration: 100%|██████████| 1/1 [00:00<00:00, 11.34it/s]\n",
            "Iteration: 100%|██████████| 1/1 [00:00<00:00, 11.77it/s]\n",
            "Iteration:   0%|          | 0/1 [00:00<?, ?it/s]"
          ],
          "name": "stderr"
        },
        {
          "output_type": "stream",
          "text": [
            "logits: [[-12.045888   -5.0112033  -7.7825875   2.3598115]]\n",
            "<torch.utils.data.dataloader.DataLoader object at 0x7fe33ef5ddd8>\n",
            "logits: [[-15.777362   -8.1169615 -15.415007  -15.436322 ]]\n",
            "<torch.utils.data.dataloader.DataLoader object at 0x7fe33ef5dc50>\n",
            "logits: [[ -5.4262705 -10.365435  -11.134589  -12.144922 ]]\n",
            "<torch.utils.data.dataloader.DataLoader object at 0x7fe33ef5deb8>\n"
          ],
          "name": "stdout"
        },
        {
          "output_type": "stream",
          "text": [
            "Iteration: 100%|██████████| 1/1 [00:00<00:00, 10.03it/s]\n",
            "Iteration: 100%|██████████| 1/1 [00:00<00:00,  9.90it/s]\n",
            "Iteration:   0%|          | 0/1 [00:00<?, ?it/s]"
          ],
          "name": "stderr"
        },
        {
          "output_type": "stream",
          "text": [
            "logits: [[-15.629526   8.058164 -15.742665 -15.258979]]\n",
            "<torch.utils.data.dataloader.DataLoader object at 0x7fe33ef5dc18>\n",
            "logits: [[ -8.697345  -15.512517   -1.1462483   7.4362607]]\n",
            "<torch.utils.data.dataloader.DataLoader object at 0x7fe33ef6b080>\n"
          ],
          "name": "stdout"
        },
        {
          "output_type": "stream",
          "text": [
            "Iteration: 100%|██████████| 1/1 [00:00<00:00,  9.00it/s]\n",
            "Iteration: 100%|██████████| 1/1 [00:00<00:00,  8.64it/s]\n",
            "Iteration:   0%|          | 0/1 [00:00<?, ?it/s]"
          ],
          "name": "stderr"
        },
        {
          "output_type": "stream",
          "text": [
            "logits: [[  5.5933747  -9.825785  -12.377055   -8.368817 ]]\n",
            "<torch.utils.data.dataloader.DataLoader object at 0x7fe33ef6b320>\n",
            "logits: [[-16.515917 -16.13506  -15.989343 -16.302376]]\n",
            "<torch.utils.data.dataloader.DataLoader object at 0x7fe33ef6b400>\n"
          ],
          "name": "stdout"
        },
        {
          "output_type": "stream",
          "text": [
            "Iteration: 100%|██████████| 1/1 [00:00<00:00,  8.78it/s]\n",
            "Iteration: 100%|██████████| 1/1 [00:00<00:00,  9.44it/s]\n",
            "Iteration:   0%|          | 0/1 [00:00<?, ?it/s]"
          ],
          "name": "stderr"
        },
        {
          "output_type": "stream",
          "text": [
            "logits: [[  5.658409   -3.1354432  -9.993881  -10.095389 ]]\n",
            "<torch.utils.data.dataloader.DataLoader object at 0x7fe33ef6b4e0>\n",
            "logits: [[  2.7221513   4.3545785 -12.388295    3.2097204]]\n",
            "<torch.utils.data.dataloader.DataLoader object at 0x7fe33ef6b6d8>\n"
          ],
          "name": "stdout"
        },
        {
          "output_type": "stream",
          "text": [
            "Iteration: 100%|██████████| 1/1 [00:00<00:00,  8.97it/s]\n",
            "Iteration: 100%|██████████| 1/1 [00:00<00:00, 10.93it/s]\n",
            "Iteration:   0%|          | 0/1 [00:00<?, ?it/s]"
          ],
          "name": "stderr"
        },
        {
          "output_type": "stream",
          "text": [
            "logits: [[-4.4064674 -7.7200994 -5.313088  -4.7678413]]\n",
            "<torch.utils.data.dataloader.DataLoader object at 0x7fe33ef6b7b8>\n",
            "logits: [[ -9.275921  -15.7683325  -5.159149    4.953884 ]]\n",
            "<torch.utils.data.dataloader.DataLoader object at 0x7fe33ef6b9b0>\n"
          ],
          "name": "stdout"
        },
        {
          "output_type": "stream",
          "text": [
            "Iteration: 100%|██████████| 1/1 [00:00<00:00,  9.29it/s]\n",
            "Iteration: 100%|██████████| 1/1 [00:00<00:00, 11.29it/s]\n",
            "Iteration:   0%|          | 0/1 [00:00<?, ?it/s]"
          ],
          "name": "stderr"
        },
        {
          "output_type": "stream",
          "text": [
            "logits: [[-16.183325   -8.707016    2.7122536 -16.575945 ]]\n",
            "<torch.utils.data.dataloader.DataLoader object at 0x7fe33ef6b828>\n",
            "logits: [[ -7.961207   -10.9051      -0.94087523  -4.948256  ]]\n",
            "<torch.utils.data.dataloader.DataLoader object at 0x7fe33ef6b6d8>\n"
          ],
          "name": "stdout"
        },
        {
          "output_type": "stream",
          "text": [
            "Iteration: 100%|██████████| 1/1 [00:00<00:00,  9.99it/s]\n",
            "Iteration: 100%|██████████| 1/1 [00:00<00:00, 10.93it/s]\n",
            "Iteration:   0%|          | 0/1 [00:00<?, ?it/s]"
          ],
          "name": "stderr"
        },
        {
          "output_type": "stream",
          "text": [
            "logits: [[-10.668157    7.2990317  -3.5270157 -11.965898 ]]\n",
            "<torch.utils.data.dataloader.DataLoader object at 0x7fe33ef6bc18>\n",
            "logits: [[-12.71602   -14.141297    2.1228693 -16.412512 ]]\n",
            "<torch.utils.data.dataloader.DataLoader object at 0x7fe33ef6bcc0>\n"
          ],
          "name": "stdout"
        },
        {
          "output_type": "stream",
          "text": [
            "Iteration: 100%|██████████| 1/1 [00:00<00:00,  8.74it/s]\n",
            "Iteration: 100%|██████████| 1/1 [00:00<00:00, 11.86it/s]\n",
            "Iteration: 100%|██████████| 1/1 [00:00<00:00, 11.72it/s]"
          ],
          "name": "stderr"
        },
        {
          "output_type": "stream",
          "text": [
            "logits: [[ -5.3751187 -11.350476    3.1674707  -4.3034277]]\n",
            "<torch.utils.data.dataloader.DataLoader object at 0x7fe33ef6be48>\n",
            "logits: [[-16.161524  -8.031291 -16.468433 -14.792592]]\n",
            "<torch.utils.data.dataloader.DataLoader object at 0x7fe33ef6bcc0>\n",
            "logits: [[-11.474169 -10.640866  -4.043366   3.855119]]\n"
          ],
          "name": "stdout"
        },
        {
          "output_type": "stream",
          "text": [
            "\n",
            "Iteration: 100%|██████████| 1/1 [00:00<00:00, 11.46it/s]\n",
            "Iteration: 100%|██████████| 1/1 [00:00<00:00, 11.81it/s]\n",
            "Iteration:   0%|          | 0/1 [00:00<?, ?it/s]"
          ],
          "name": "stderr"
        },
        {
          "output_type": "stream",
          "text": [
            "<torch.utils.data.dataloader.DataLoader object at 0x7fe33ef7a0f0>\n",
            "logits: [[ -4.133889  -5.415335 -15.464896 -10.240384]]\n",
            "<torch.utils.data.dataloader.DataLoader object at 0x7fe33ef7a198>\n",
            "logits: [[-15.583938    8.781276    2.8529391 -10.433996 ]]\n",
            "<torch.utils.data.dataloader.DataLoader object at 0x7fe33ef7a2b0>\n",
            "logits: "
          ],
          "name": "stdout"
        },
        {
          "output_type": "stream",
          "text": [
            "Iteration: 100%|██████████| 1/1 [00:00<00:00, 10.43it/s]\n",
            "Iteration: 100%|██████████| 1/1 [00:00<00:00, 10.47it/s]\n",
            "Iteration:   0%|          | 0/1 [00:00<?, ?it/s]"
          ],
          "name": "stderr"
        },
        {
          "output_type": "stream",
          "text": [
            "[[  6.4546103 -10.105791  -16.219437  -16.132101 ]]\n",
            "<torch.utils.data.dataloader.DataLoader object at 0x7fe33ef7a4a8>\n",
            "logits: [[-14.329806 -15.887337 -16.25813  -16.339157]]\n",
            "<torch.utils.data.dataloader.DataLoader object at 0x7fe33ef6bac8>\n"
          ],
          "name": "stdout"
        },
        {
          "output_type": "stream",
          "text": [
            "Iteration: 100%|██████████| 1/1 [00:00<00:00, 11.17it/s]\n",
            "Iteration: 100%|██████████| 1/1 [00:00<00:00, 10.65it/s]\n",
            "Iteration:   0%|          | 0/1 [00:00<?, ?it/s]"
          ],
          "name": "stderr"
        },
        {
          "output_type": "stream",
          "text": [
            "logits: [[-2.9178948 -4.485635   1.7175792 -7.476031 ]]\n",
            "<torch.utils.data.dataloader.DataLoader object at 0x7fe33ef7a668>\n",
            "logits: [[ -7.0882063 -15.929193   -9.129213  -15.019262 ]]\n",
            "<torch.utils.data.dataloader.DataLoader object at 0x7fe33ef7a7b8>\n"
          ],
          "name": "stdout"
        },
        {
          "output_type": "stream",
          "text": [
            "Iteration: 100%|██████████| 1/1 [00:00<00:00, 10.29it/s]\n",
            "Iteration: 100%|██████████| 1/1 [00:00<00:00, 11.99it/s]\n",
            "Iteration: 100%|██████████| 1/1 [00:00<00:00, 12.04it/s]"
          ],
          "name": "stderr"
        },
        {
          "output_type": "stream",
          "text": [
            "logits: [[-13.498385 -10.811925 -13.166323 -14.14754 ]]\n",
            "<torch.utils.data.dataloader.DataLoader object at 0x7fe33ef7a7f0>\n",
            "logits: [[-16.34599    -8.721876   -1.2531952 -13.398097 ]]\n",
            "<torch.utils.data.dataloader.DataLoader object at 0x7fe33ef7a400>\n",
            "logits: [[-15.385006 -16.234179 -16.078339 -15.771518]]\n",
            "<torch.utils.data.dataloader.DataLoader object at 0x7fe33ef7a780>\n"
          ],
          "name": "stdout"
        },
        {
          "output_type": "stream",
          "text": [
            "\n",
            "Iteration: 100%|██████████| 1/1 [00:00<00:00, 11.04it/s]\n",
            "Iteration: 100%|██████████| 1/1 [00:00<00:00, 11.41it/s]\n",
            "Iteration: 100%|██████████| 1/1 [00:00<00:00, 11.55it/s]"
          ],
          "name": "stderr"
        },
        {
          "output_type": "stream",
          "text": [
            "logits: [[-16.20859   -15.200116    4.6917973 -11.614377 ]]\n",
            "<torch.utils.data.dataloader.DataLoader object at 0x7fe33ef7aac8>\n",
            "logits: [[ -9.513637  -13.334219    8.883277    2.8459024]]\n",
            "<torch.utils.data.dataloader.DataLoader object at 0x7fe33ef7aba8>\n",
            "logits: [[ -9.278732 -15.809719 -15.18061  -16.23099 ]]\n"
          ],
          "name": "stdout"
        },
        {
          "output_type": "stream",
          "text": [
            "\n",
            "Iteration: 100%|██████████| 1/1 [00:00<00:00, 10.77it/s]\n",
            "Iteration: 100%|██████████| 1/1 [00:00<00:00, 11.13it/s]\n",
            "Iteration:   0%|          | 0/1 [00:00<?, ?it/s]"
          ],
          "name": "stderr"
        },
        {
          "output_type": "stream",
          "text": [
            "<torch.utils.data.dataloader.DataLoader object at 0x7fe33ef7a278>\n",
            "logits: [[  9.106177 -16.267797 -16.336885 -16.217321]]\n",
            "<torch.utils.data.dataloader.DataLoader object at 0x7fe33ef7add8>\n",
            "logits: [[-16.084682    3.4213028 -15.925331  -14.752404 ]]\n",
            "<torch.utils.data.dataloader.DataLoader object at 0x7fe33ef7af60>\n"
          ],
          "name": "stdout"
        },
        {
          "output_type": "stream",
          "text": [
            "Iteration: 100%|██████████| 1/1 [00:00<00:00, 10.69it/s]\n",
            "Iteration: 100%|██████████| 1/1 [00:00<00:00, 11.21it/s]\n",
            "Iteration:   0%|          | 0/1 [00:00<?, ?it/s]"
          ],
          "name": "stderr"
        },
        {
          "output_type": "stream",
          "text": [
            "logits: [[  1.923553 -15.609631 -13.34699  -12.391384]]\n",
            "<torch.utils.data.dataloader.DataLoader object at 0x7fe33e4fd080>\n",
            "logits: [[-12.097592 -16.150085 -14.771804 -15.389831]]\n",
            "<torch.utils.data.dataloader.DataLoader object at 0x7fe33ef7aeb8>\n"
          ],
          "name": "stdout"
        },
        {
          "output_type": "stream",
          "text": [
            "Iteration: 100%|██████████| 1/1 [00:00<00:00,  9.66it/s]\n",
            "Iteration: 100%|██████████| 1/1 [00:00<00:00,  8.96it/s]\n",
            "Iteration:   0%|          | 0/1 [00:00<?, ?it/s]"
          ],
          "name": "stderr"
        },
        {
          "output_type": "stream",
          "text": [
            "logits: [[-12.262464   -5.754044    7.664333    2.4732363]]\n",
            "<torch.utils.data.dataloader.DataLoader object at 0x7fe33e4fd278>\n",
            "logits: [[ -9.7711525  -15.187424     0.02072386  -3.6082335 ]]\n",
            "<torch.utils.data.dataloader.DataLoader object at 0x7fe33e4fd4a8>\n"
          ],
          "name": "stdout"
        },
        {
          "output_type": "stream",
          "text": [
            "Iteration: 100%|██████████| 1/1 [00:00<00:00,  8.86it/s]\n",
            "Iteration: 100%|██████████| 1/1 [00:00<00:00,  9.31it/s]\n",
            "Iteration:   0%|          | 0/1 [00:00<?, ?it/s]"
          ],
          "name": "stderr"
        },
        {
          "output_type": "stream",
          "text": [
            "logits: [[-2.5465724  -3.2501647  -6.197025    0.66209733]]\n",
            "<torch.utils.data.dataloader.DataLoader object at 0x7fe33e4fd630>\n",
            "logits: [[-16.428972   -0.5054578  -6.727452  -16.619362 ]]\n",
            "<torch.utils.data.dataloader.DataLoader object at 0x7fe33e4fd5f8>\n"
          ],
          "name": "stdout"
        },
        {
          "output_type": "stream",
          "text": [
            "Iteration: 100%|██████████| 1/1 [00:00<00:00, 10.34it/s]\n",
            "Iteration: 100%|██████████| 1/1 [00:00<00:00, 11.41it/s]\n",
            "Iteration:   0%|          | 0/1 [00:00<?, ?it/s]"
          ],
          "name": "stderr"
        },
        {
          "output_type": "stream",
          "text": [
            "logits: [[ 4.7030835 -5.384344  -3.2825687 -9.809749 ]]\n",
            "<torch.utils.data.dataloader.DataLoader object at 0x7fe33e4fd9e8>\n",
            "logits: [[-16.350037  -16.444609  -16.073084   -1.0859929]]\n",
            "<torch.utils.data.dataloader.DataLoader object at 0x7fe33e4fd860>\n"
          ],
          "name": "stdout"
        },
        {
          "output_type": "stream",
          "text": [
            "Iteration: 100%|██████████| 1/1 [00:00<00:00, 10.65it/s]\n",
            "Iteration: 100%|██████████| 1/1 [00:00<00:00, 10.77it/s]\n",
            "Iteration:   0%|          | 0/1 [00:00<?, ?it/s]"
          ],
          "name": "stderr"
        },
        {
          "output_type": "stream",
          "text": [
            "logits: [[  7.7067137 -16.238691  -16.174482  -16.619541 ]]\n",
            "<torch.utils.data.dataloader.DataLoader object at 0x7fe33e4fd780>\n",
            "logits: [[ -4.5469685 -16.068438  -15.67171   -15.723891 ]]\n",
            "<torch.utils.data.dataloader.DataLoader object at 0x7fe33e4fd940>\n",
            "logits: "
          ],
          "name": "stdout"
        },
        {
          "output_type": "stream",
          "text": [
            "Iteration: 100%|██████████| 1/1 [00:00<00:00, 11.48it/s]\n",
            "Iteration: 100%|██████████| 1/1 [00:00<00:00, 11.56it/s]\n",
            "Iteration:   0%|          | 0/1 [00:00<?, ?it/s]"
          ],
          "name": "stderr"
        },
        {
          "output_type": "stream",
          "text": [
            "[[ -8.810348  -7.81369   -8.249614 -15.098198]]\n",
            "<torch.utils.data.dataloader.DataLoader object at 0x7fe33e4fd748>\n",
            "logits: [[ -2.9489899   1.7155656 -15.243659  -15.711748 ]]\n",
            "<torch.utils.data.dataloader.DataLoader object at 0x7fe33e4fdc88>\n"
          ],
          "name": "stdout"
        },
        {
          "output_type": "stream",
          "text": [
            "Iteration: 100%|██████████| 1/1 [00:00<00:00,  9.87it/s]\n",
            "Iteration: 100%|██████████| 1/1 [00:00<00:00, 11.89it/s]\n",
            "Iteration: 100%|██████████| 1/1 [00:00<00:00, 11.29it/s]"
          ],
          "name": "stderr"
        },
        {
          "output_type": "stream",
          "text": [
            "logits: [[ -9.723718 -13.372067 -14.286656 -11.067453]]\n",
            "<torch.utils.data.dataloader.DataLoader object at 0x7fe33e4fdbe0>\n",
            "logits: [[ -7.408471  -9.809595   5.125274 -13.966449]]\n",
            "<torch.utils.data.dataloader.DataLoader object at 0x7fe33e4fdda0>\n",
            "logits: [[-6.3291774 -5.989912  -9.484707  -8.318328 ]]\n"
          ],
          "name": "stdout"
        },
        {
          "output_type": "stream",
          "text": [
            "\n",
            "Iteration: 100%|██████████| 1/1 [00:00<00:00, 10.30it/s]\n",
            "Iteration: 100%|██████████| 1/1 [00:00<00:00, 11.30it/s]\n",
            "Iteration:   0%|          | 0/1 [00:00<?, ?it/s]"
          ],
          "name": "stderr"
        },
        {
          "output_type": "stream",
          "text": [
            "<torch.utils.data.dataloader.DataLoader object at 0x7fe33e4fc080>\n",
            "logits: [[-15.755669  -14.426225   -1.2931018  -9.769288 ]]\n",
            "<torch.utils.data.dataloader.DataLoader object at 0x7fe33e4fc208>\n",
            "logits: [[ 3.8913534  3.0345385 -5.243733   5.3267264]]\n",
            "<torch.utils.data.dataloader.DataLoader object at 0x7fe33e4fc278>\n"
          ],
          "name": "stdout"
        },
        {
          "output_type": "stream",
          "text": [
            "Iteration: 100%|██████████| 1/1 [00:00<00:00,  9.42it/s]\n",
            "Iteration: 100%|██████████| 1/1 [00:00<00:00, 10.07it/s]\n",
            "Iteration:   0%|          | 0/1 [00:00<?, ?it/s]"
          ],
          "name": "stderr"
        },
        {
          "output_type": "stream",
          "text": [
            "logits: [[ -7.733151  -10.194539   -9.21375    -7.8703394]]\n",
            "<torch.utils.data.dataloader.DataLoader object at 0x7fe33e4fdf60>\n",
            "logits: [[  1.0760937 -15.750489  -15.694669  -15.028085 ]]\n",
            "<torch.utils.data.dataloader.DataLoader object at 0x7fe33e4fc470>\n"
          ],
          "name": "stdout"
        },
        {
          "output_type": "stream",
          "text": [
            "Iteration: 100%|██████████| 1/1 [00:00<00:00, 11.05it/s]\n",
            "Iteration: 100%|██████████| 1/1 [00:00<00:00, 12.06it/s]\n",
            "Iteration: 100%|██████████| 1/1 [00:00<00:00, 12.01it/s]"
          ],
          "name": "stderr"
        },
        {
          "output_type": "stream",
          "text": [
            "logits: [[-0.632052   4.9481373  3.005514   1.9290402]]\n",
            "<torch.utils.data.dataloader.DataLoader object at 0x7fe33e4fc208>\n",
            "logits: [[-15.509313    1.8599216  -4.3623075   5.987438 ]]\n",
            "<torch.utils.data.dataloader.DataLoader object at 0x7fe33e4fc5c0>\n",
            "logits: [[-10.437345   -8.361684   -6.2404714  -8.147129 ]]\n"
          ],
          "name": "stdout"
        },
        {
          "output_type": "stream",
          "text": [
            "\n",
            "Iteration: 100%|██████████| 1/1 [00:00<00:00,  7.72it/s]\n",
            "Iteration: 100%|██████████| 1/1 [00:00<00:00,  9.13it/s]\n",
            "Iteration:   0%|          | 0/1 [00:00<?, ?it/s]"
          ],
          "name": "stderr"
        },
        {
          "output_type": "stream",
          "text": [
            "<torch.utils.data.dataloader.DataLoader object at 0x7fe33e4fc7b8>\n",
            "logits: [[-15.435097    2.1191275 -15.463243  -16.47     ]]\n",
            "<torch.utils.data.dataloader.DataLoader object at 0x7fe33e4fc940>\n",
            "logits: [[  1.8935927  -1.0536757 -14.986114    3.4520452]]\n",
            "<torch.utils.data.dataloader.DataLoader object at 0x7fe33e4fc6d8>\n"
          ],
          "name": "stdout"
        },
        {
          "output_type": "stream",
          "text": [
            "Iteration: 100%|██████████| 1/1 [00:00<00:00,  9.49it/s]\n",
            "Iteration: 100%|██████████| 1/1 [00:00<00:00, 10.65it/s]\n",
            "Iteration:   0%|          | 0/1 [00:00<?, ?it/s]"
          ],
          "name": "stderr"
        },
        {
          "output_type": "stream",
          "text": [
            "logits: [[ -1.6262081  -7.5505595 -10.488251  -14.253762 ]]\n",
            "<torch.utils.data.dataloader.DataLoader object at 0x7fe33e4fc668>\n",
            "logits: [[-10.346481   -0.5902426 -10.399683   -6.4550915]]\n",
            "<torch.utils.data.dataloader.DataLoader object at 0x7fe33e4fcc88>\n"
          ],
          "name": "stdout"
        },
        {
          "output_type": "stream",
          "text": [
            "Iteration: 100%|██████████| 1/1 [00:00<00:00, 10.05it/s]\n",
            "Iteration: 100%|██████████| 1/1 [00:00<00:00, 11.70it/s]\n",
            "Iteration:   0%|          | 0/1 [00:00<?, ?it/s]"
          ],
          "name": "stderr"
        },
        {
          "output_type": "stream",
          "text": [
            "logits: [[ 0.46864724 -7.5684166   1.4757538  -5.062762  ]]\n",
            "<torch.utils.data.dataloader.DataLoader object at 0x7fe33e4fccf8>\n",
            "logits: [[-13.740259   -13.708684    -0.97525984  -9.446202  ]]\n",
            "<torch.utils.data.dataloader.DataLoader object at 0x7fe33e4fcba8>\n"
          ],
          "name": "stdout"
        },
        {
          "output_type": "stream",
          "text": [
            "\rIteration: 100%|██████████| 1/1 [00:00<00:00, 10.76it/s]"
          ],
          "name": "stderr"
        },
        {
          "output_type": "stream",
          "text": [
            "logits: [[-15.702228 -10.056247 -16.232002 -16.236317]]\n",
            "<torch.utils.data.dataloader.DataLoader object at 0x7fe33e4fce80>\n"
          ],
          "name": "stdout"
        },
        {
          "output_type": "stream",
          "text": [
            "\n"
          ],
          "name": "stderr"
        }
      ]
    },
    {
      "cell_type": "code",
      "metadata": {
        "id": "fD3yQTk0HHOw",
        "colab_type": "code",
        "colab": {}
      },
      "source": [
        "ans=pd.DataFrame(ans)\n",
        "ans.to_csv('predict.csv',index=False)"
      ],
      "execution_count": 0,
      "outputs": []
    }
  ]
}